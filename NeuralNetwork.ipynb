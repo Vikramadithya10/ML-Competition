{
 "cells": [
  {
   "cell_type": "code",
   "execution_count": 1,
   "metadata": {},
   "outputs": [],
   "source": [
    "import pandas as pd\n",
    "import numpy as np\n",
    "df=pd.read_csv(\"train.csv\")\n",
    "df_tmp=df.copy()"
   ]
  },
  {
   "cell_type": "code",
   "execution_count": 2,
   "metadata": {},
   "outputs": [
    {
     "data": {
      "text/html": [
       "<div>\n",
       "<style scoped>\n",
       "    .dataframe tbody tr th:only-of-type {\n",
       "        vertical-align: middle;\n",
       "    }\n",
       "\n",
       "    .dataframe tbody tr th {\n",
       "        vertical-align: top;\n",
       "    }\n",
       "\n",
       "    .dataframe thead th {\n",
       "        text-align: right;\n",
       "    }\n",
       "</style>\n",
       "<table border=\"1\" class=\"dataframe\">\n",
       "  <thead>\n",
       "    <tr style=\"text-align: right;\">\n",
       "      <th></th>\n",
       "      <th>Loan_ID</th>\n",
       "      <th>Gender</th>\n",
       "      <th>Married</th>\n",
       "      <th>Dependents</th>\n",
       "      <th>Education</th>\n",
       "      <th>Self_Employed</th>\n",
       "      <th>ApplicantIncome</th>\n",
       "      <th>CoapplicantIncome</th>\n",
       "      <th>LoanAmount</th>\n",
       "      <th>Loan_Amount_Term</th>\n",
       "      <th>Credit_History</th>\n",
       "      <th>Property_Area</th>\n",
       "      <th>Loan_Status</th>\n",
       "    </tr>\n",
       "  </thead>\n",
       "  <tbody>\n",
       "    <tr>\n",
       "      <th>0</th>\n",
       "      <td>LP001002</td>\n",
       "      <td>Male</td>\n",
       "      <td>No</td>\n",
       "      <td>0</td>\n",
       "      <td>Graduate</td>\n",
       "      <td>No</td>\n",
       "      <td>5849</td>\n",
       "      <td>0.0</td>\n",
       "      <td>NaN</td>\n",
       "      <td>360.0</td>\n",
       "      <td>1.0</td>\n",
       "      <td>Urban</td>\n",
       "      <td>Y</td>\n",
       "    </tr>\n",
       "    <tr>\n",
       "      <th>1</th>\n",
       "      <td>LP001003</td>\n",
       "      <td>Male</td>\n",
       "      <td>Yes</td>\n",
       "      <td>1</td>\n",
       "      <td>Graduate</td>\n",
       "      <td>No</td>\n",
       "      <td>4583</td>\n",
       "      <td>1508.0</td>\n",
       "      <td>128.0</td>\n",
       "      <td>360.0</td>\n",
       "      <td>1.0</td>\n",
       "      <td>Rural</td>\n",
       "      <td>N</td>\n",
       "    </tr>\n",
       "    <tr>\n",
       "      <th>2</th>\n",
       "      <td>LP001005</td>\n",
       "      <td>Male</td>\n",
       "      <td>Yes</td>\n",
       "      <td>0</td>\n",
       "      <td>Graduate</td>\n",
       "      <td>Yes</td>\n",
       "      <td>3000</td>\n",
       "      <td>0.0</td>\n",
       "      <td>66.0</td>\n",
       "      <td>360.0</td>\n",
       "      <td>1.0</td>\n",
       "      <td>Urban</td>\n",
       "      <td>Y</td>\n",
       "    </tr>\n",
       "    <tr>\n",
       "      <th>3</th>\n",
       "      <td>LP001006</td>\n",
       "      <td>Male</td>\n",
       "      <td>Yes</td>\n",
       "      <td>0</td>\n",
       "      <td>Not Graduate</td>\n",
       "      <td>No</td>\n",
       "      <td>2583</td>\n",
       "      <td>2358.0</td>\n",
       "      <td>120.0</td>\n",
       "      <td>360.0</td>\n",
       "      <td>1.0</td>\n",
       "      <td>Urban</td>\n",
       "      <td>Y</td>\n",
       "    </tr>\n",
       "    <tr>\n",
       "      <th>4</th>\n",
       "      <td>LP001008</td>\n",
       "      <td>Male</td>\n",
       "      <td>No</td>\n",
       "      <td>0</td>\n",
       "      <td>Graduate</td>\n",
       "      <td>No</td>\n",
       "      <td>6000</td>\n",
       "      <td>0.0</td>\n",
       "      <td>141.0</td>\n",
       "      <td>360.0</td>\n",
       "      <td>1.0</td>\n",
       "      <td>Urban</td>\n",
       "      <td>Y</td>\n",
       "    </tr>\n",
       "  </tbody>\n",
       "</table>\n",
       "</div>"
      ],
      "text/plain": [
       "    Loan_ID Gender Married Dependents     Education Self_Employed  \\\n",
       "0  LP001002   Male      No          0      Graduate            No   \n",
       "1  LP001003   Male     Yes          1      Graduate            No   \n",
       "2  LP001005   Male     Yes          0      Graduate           Yes   \n",
       "3  LP001006   Male     Yes          0  Not Graduate            No   \n",
       "4  LP001008   Male      No          0      Graduate            No   \n",
       "\n",
       "   ApplicantIncome  CoapplicantIncome  LoanAmount  Loan_Amount_Term  \\\n",
       "0             5849                0.0         NaN             360.0   \n",
       "1             4583             1508.0       128.0             360.0   \n",
       "2             3000                0.0        66.0             360.0   \n",
       "3             2583             2358.0       120.0             360.0   \n",
       "4             6000                0.0       141.0             360.0   \n",
       "\n",
       "   Credit_History Property_Area Loan_Status  \n",
       "0             1.0         Urban           Y  \n",
       "1             1.0         Rural           N  \n",
       "2             1.0         Urban           Y  \n",
       "3             1.0         Urban           Y  \n",
       "4             1.0         Urban           Y  "
      ]
     },
     "execution_count": 2,
     "metadata": {},
     "output_type": "execute_result"
    }
   ],
   "source": [
    "df.head()"
   ]
  },
  {
   "cell_type": "code",
   "execution_count": 3,
   "metadata": {},
   "outputs": [
    {
     "data": {
      "text/plain": [
       "Loan_ID               0\n",
       "Gender               13\n",
       "Married               3\n",
       "Dependents           15\n",
       "Education             0\n",
       "Self_Employed        32\n",
       "ApplicantIncome       0\n",
       "CoapplicantIncome     0\n",
       "LoanAmount           22\n",
       "Loan_Amount_Term     14\n",
       "Credit_History       50\n",
       "Property_Area         0\n",
       "Loan_Status           0\n",
       "dtype: int64"
      ]
     },
     "execution_count": 3,
     "metadata": {},
     "output_type": "execute_result"
    }
   ],
   "source": [
    "df.isna().sum()"
   ]
  },
  {
   "cell_type": "code",
   "execution_count": 4,
   "metadata": {},
   "outputs": [],
   "source": [
    "df_tmp[\"Loan_Stats\"]=[1 if x=='Y' else 0 for x in df_tmp[\"Loan_Status\"]]\n",
    "df_tmp=df_tmp.drop(\"Loan_Status\", axis=1)\n",
    "df_tmp=df_tmp.drop(\"Loan_ID\", axis=1)"
   ]
  },
  {
   "cell_type": "code",
   "execution_count": 5,
   "metadata": {},
   "outputs": [],
   "source": [
    "for label, content in df_tmp.items():\n",
    "    if pd.api.types.is_numeric_dtype(content):\n",
    "        if pd.isnull(content).sum():\n",
    "            df_tmp[label+ \"_is_missing\"]=pd.isnull(content)\n",
    "            df_tmp[label]=content.fillna(content.median())\n",
    "    if not pd.api.types.is_numeric_dtype(content):\n",
    "        if pd.isnull(content).sum():\n",
    "            df_tmp[label]=pd.Categorical(content).codes+1"
   ]
  },
  {
   "cell_type": "code",
   "execution_count": 6,
   "metadata": {},
   "outputs": [],
   "source": [
    "for label, content in df_tmp.items():\n",
    "    if not pd.api.types.is_numeric_dtype(content):\n",
    "        df_tmp[label]=pd.Categorical(content).codes+1"
   ]
  },
  {
   "cell_type": "code",
   "execution_count": 7,
   "metadata": {},
   "outputs": [
    {
     "data": {
      "text/plain": [
       "Gender                            int8\n",
       "Married                           int8\n",
       "Dependents                        int8\n",
       "Education                         int8\n",
       "Self_Employed                     int8\n",
       "ApplicantIncome                  int64\n",
       "CoapplicantIncome              float64\n",
       "LoanAmount                     float64\n",
       "Loan_Amount_Term               float64\n",
       "Credit_History                 float64\n",
       "Property_Area                     int8\n",
       "Loan_Stats                       int64\n",
       "LoanAmount_is_missing             bool\n",
       "Loan_Amount_Term_is_missing       bool\n",
       "Credit_History_is_missing         bool\n",
       "dtype: object"
      ]
     },
     "execution_count": 7,
     "metadata": {},
     "output_type": "execute_result"
    }
   ],
   "source": [
    "df_tmp.dtypes"
   ]
  },
  {
   "cell_type": "code",
   "execution_count": 8,
   "metadata": {},
   "outputs": [
    {
     "data": {
      "text/plain": [
       "Loan_ID               object\n",
       "Gender                object\n",
       "Married               object\n",
       "Dependents            object\n",
       "Education             object\n",
       "Self_Employed         object\n",
       "ApplicantIncome        int64\n",
       "CoapplicantIncome    float64\n",
       "LoanAmount           float64\n",
       "Loan_Amount_Term     float64\n",
       "Credit_History       float64\n",
       "Property_Area         object\n",
       "Loan_Status           object\n",
       "dtype: object"
      ]
     },
     "execution_count": 8,
     "metadata": {},
     "output_type": "execute_result"
    }
   ],
   "source": [
    "df.dtypes"
   ]
  },
  {
   "cell_type": "code",
   "execution_count": null,
   "metadata": {},
   "outputs": [],
   "source": [
    "df_tmp=df_tmp.drop(\"ApplicantIncome\", axis=1)\n",
    "df_tmp=df_tmp.drop(\"Self_Employed\", axis=1)\n",
    "df_tmp=df_tmp.drop(\"Dependents\", axis=1)\n",
    "df_tmp=df_tmp.drop(\"Loan_Amount_Term\", axis=1)\n",
    "df_tmp=df_tmp.drop(\"Gender\", axis=1)"
   ]
  },
  {
   "cell_type": "code",
   "execution_count": 9,
   "metadata": {},
   "outputs": [],
   "source": [
    "np.random.seed(10)\n",
    "from sklearn.model_selection import train_test_split as tts\n",
    "x=df_tmp.drop(\"Loan_Stats\", axis=1).values\n",
    "y=df_tmp[\"Loan_Stats\"].values\n",
    "x_train, x_valid, y_train, y_valid=tts(x,y,test_size=0.2, stratify=y)"
   ]
  },
  {
   "cell_type": "code",
   "execution_count": 11,
   "metadata": {
    "scrolled": true
   },
   "outputs": [
    {
     "data": {
      "text/plain": [
       "Education                     -0.085884\n",
       "LoanAmount_is_missing         -0.077883\n",
       "CoapplicantIncome             -0.059187\n",
       "Loan_Amount_Term_is_missing   -0.038178\n",
       "LoanAmount                    -0.033214\n",
       "Loan_Amount_Term              -0.022549\n",
       "Self_Employed                 -0.011332\n",
       "ApplicantIncome               -0.004710\n",
       "Dependents                     0.014263\n",
       "Gender                         0.029040\n",
       "Property_Area                  0.032112\n",
       "Credit_History_is_missing      0.033849\n",
       "Married                        0.075547\n",
       "Credit_History                 0.540556\n",
       "Loan_Stats                     1.000000\n",
       "Name: Loan_Stats, dtype: float64"
      ]
     },
     "execution_count": 11,
     "metadata": {},
     "output_type": "execute_result"
    }
   ],
   "source": [
    "df_tmp.corr()['Loan_Stats'].sort_values()"
   ]
  },
  {
   "cell_type": "code",
   "execution_count": 10,
   "metadata": {},
   "outputs": [
    {
     "data": {
      "text/plain": [
       "<matplotlib.axes._subplots.AxesSubplot at 0x25292a3ae48>"
      ]
     },
     "execution_count": 10,
     "metadata": {},
     "output_type": "execute_result"
    },
    {
     "data": {
      "image/png": "[encoded data removed]",
      "text/plain": [
       "<Figure size 432x288 with 1 Axes>"
      ]
     },
     "metadata": {
      "needs_background": "light"
     },
     "output_type": "display_data"
    }
   ],
   "source": [
    "df_tmp.corr()['Loan_Stats'].sort_values().drop('Loan_Stats').plot(kind='bar')"
   ]
  },
  {
   "cell_type": "code",
   "execution_count": null,
   "metadata": {},
   "outputs": [],
   "source": []
  },
  {
   "cell_type": "code",
   "execution_count": 10,
   "metadata": {},
   "outputs": [],
   "source": [
    "from sklearn.preprocessing import MinMaxScaler"
   ]
  },
  {
   "cell_type": "code",
   "execution_count": 11,
   "metadata": {},
   "outputs": [],
   "source": [
    "scaler = MinMaxScaler()\n",
    "scaledtrain_x = scaler.fit_transform(x_train)\n",
    "scaledvalid_x = scaler.fit_transform(x_valid)"
   ]
  },
  {
   "cell_type": "code",
   "execution_count": 12,
   "metadata": {},
   "outputs": [
    {
     "data": {
      "text/plain": [
       "(614, 12)"
      ]
     },
     "execution_count": 12,
     "metadata": {},
     "output_type": "execute_result"
    }
   ],
   "source": [
    "df_tmp.shape"
   ]
  },
  {
   "cell_type": "code",
   "execution_count": 13,
   "metadata": {},
   "outputs": [],
   "source": [
    "from tensorflow.keras.models import Sequential\n",
    "from tensorflow.keras.layers import Dropout, Dense, Activation\n",
    "from tensorflow.keras.callbacks import EarlyStopping"
   ]
  },
  {
   "cell_type": "code",
   "execution_count": 53,
   "metadata": {},
   "outputs": [],
   "source": [
    "model = Sequential()\n",
    "\n",
    "model.add(Dense(4, activation='relu'))\n",
    "# model.add(Dropout(0.1))\n",
    "\n",
    "model.add(Dense(4, activation='relu'))\n",
    "# model.add(Dropout(0.1))\n",
    "\n",
    "model.add(Dense(4, activation='relu'))\n",
    "# model.add(Dropout(0.1))\n",
    "\n",
    "model.add(Dense(3, activation='elu'))\n",
    "# model.add(Dropout(0.15))\n",
    "\n",
    "model.add(Dense(1, activation='sigmoid'))\n",
    "\n",
    "model.compile(loss='binary_crossentropy', optimizer='adam', metrics=['accuracy'])"
   ]
  },
  {
   "cell_type": "code",
   "execution_count": 54,
   "metadata": {},
   "outputs": [],
   "source": [
    "early_stop = EarlyStopping(monitor='val_loss', verbose=1, patience=25)"
   ]
  },
  {
   "cell_type": "code",
   "execution_count": 55,
   "metadata": {},
   "outputs": [
    {
     "name": "stdout",
     "output_type": "stream",
     "text": [
      "Train on 491 samples, validate on 123 samples\n",
      "Epoch 1/400\n",
      "491/491 [==============================] - 1s 1ms/sample - loss: 0.9200 - accuracy: 0.3116 - val_loss: 0.8254 - val_accuracy: 0.3008\n",
      "Epoch 2/400\n",
      "491/491 [==============================] - 0s 93us/sample - loss: 0.8109 - accuracy: 0.2974 - val_loss: 0.7462 - val_accuracy: 0.3333\n",
      "Epoch 3/400\n",
      "491/491 [==============================] - 0s 108us/sample - loss: 0.7399 - accuracy: 0.3605 - val_loss: 0.6934 - val_accuracy: 0.5285\n",
      "Epoch 4/400\n",
      "491/491 [==============================] - 0s 87us/sample - loss: 0.6939 - accuracy: 0.5295 - val_loss: 0.6655 - val_accuracy: 0.6585\n",
      "Epoch 5/400\n",
      "491/491 [==============================] - 0s 83us/sample - loss: 0.6679 - accuracy: 0.6273 - val_loss: 0.6528 - val_accuracy: 0.6829\n",
      "Epoch 6/400\n",
      "491/491 [==============================] - 0s 88us/sample - loss: 0.6563 - accuracy: 0.6762 - val_loss: 0.6452 - val_accuracy: 0.6911\n",
      "Epoch 7/400\n",
      "491/491 [==============================] - 0s 104us/sample - loss: 0.6481 - accuracy: 0.6823 - val_loss: 0.6388 - val_accuracy: 0.6911\n",
      "Epoch 8/400\n",
      "491/491 [==============================] - 0s 108us/sample - loss: 0.6410 - accuracy: 0.6864 - val_loss: 0.6339 - val_accuracy: 0.6911\n",
      "Epoch 9/400\n",
      "491/491 [==============================] - 0s 110us/sample - loss: 0.6353 - accuracy: 0.6864 - val_loss: 0.6287 - val_accuracy: 0.6911\n",
      "Epoch 10/400\n",
      "491/491 [==============================] - 0s 106us/sample - loss: 0.6292 - accuracy: 0.6864 - val_loss: 0.6237 - val_accuracy: 0.6911\n",
      "Epoch 11/400\n",
      "491/491 [==============================] - 0s 104us/sample - loss: 0.6241 - accuracy: 0.6864 - val_loss: 0.6180 - val_accuracy: 0.6911\n",
      "Epoch 12/400\n",
      "491/491 [==============================] - 0s 124us/sample - loss: 0.6196 - accuracy: 0.6864 - val_loss: 0.6133 - val_accuracy: 0.6911\n",
      "Epoch 13/400\n",
      "491/491 [==============================] - 0s 108us/sample - loss: 0.6156 - accuracy: 0.6864 - val_loss: 0.6090 - val_accuracy: 0.6911\n",
      "Epoch 14/400\n",
      "491/491 [==============================] - 0s 118us/sample - loss: 0.6119 - accuracy: 0.6864 - val_loss: 0.6058 - val_accuracy: 0.6911\n",
      "Epoch 15/400\n",
      "491/491 [==============================] - 0s 89us/sample - loss: 0.6091 - accuracy: 0.6864 - val_loss: 0.6034 - val_accuracy: 0.6911\n",
      "Epoch 16/400\n",
      "491/491 [==============================] - 0s 87us/sample - loss: 0.6055 - accuracy: 0.6864 - val_loss: 0.6008 - val_accuracy: 0.6911\n",
      "Epoch 17/400\n",
      "491/491 [==============================] - 0s 89us/sample - loss: 0.6025 - accuracy: 0.6864 - val_loss: 0.5979 - val_accuracy: 0.6911\n",
      "Epoch 18/400\n",
      "491/491 [==============================] - 0s 81us/sample - loss: 0.5998 - accuracy: 0.6864 - val_loss: 0.5957 - val_accuracy: 0.6911\n",
      "Epoch 19/400\n",
      "491/491 [==============================] - 0s 83us/sample - loss: 0.5972 - accuracy: 0.6864 - val_loss: 0.5931 - val_accuracy: 0.6911\n",
      "Epoch 20/400\n",
      "491/491 [==============================] - 0s 83us/sample - loss: 0.5947 - accuracy: 0.6864 - val_loss: 0.5907 - val_accuracy: 0.6911\n",
      "Epoch 21/400\n",
      "491/491 [==============================] - 0s 83us/sample - loss: 0.5924 - accuracy: 0.6864 - val_loss: 0.5887 - val_accuracy: 0.6911\n",
      "Epoch 22/400\n",
      "491/491 [==============================] - 0s 79us/sample - loss: 0.5903 - accuracy: 0.6864 - val_loss: 0.5869 - val_accuracy: 0.6911\n",
      "Epoch 23/400\n",
      "491/491 [==============================] - 0s 85us/sample - loss: 0.5877 - accuracy: 0.6864 - val_loss: 0.5847 - val_accuracy: 0.6911\n",
      "Epoch 24/400\n",
      "491/491 [==============================] - 0s 95us/sample - loss: 0.5851 - accuracy: 0.6864 - val_loss: 0.5823 - val_accuracy: 0.6911\n",
      "Epoch 25/400\n",
      "491/491 [==============================] - 0s 100us/sample - loss: 0.5826 - accuracy: 0.6864 - val_loss: 0.5797 - val_accuracy: 0.6911\n",
      "Epoch 26/400\n",
      "491/491 [==============================] - 0s 89us/sample - loss: 0.5804 - accuracy: 0.6864 - val_loss: 0.5771 - val_accuracy: 0.6911\n",
      "Epoch 27/400\n",
      "491/491 [==============================] - 0s 83us/sample - loss: 0.5769 - accuracy: 0.6864 - val_loss: 0.5743 - val_accuracy: 0.6911\n",
      "Epoch 28/400\n",
      "491/491 [==============================] - 0s 91us/sample - loss: 0.5740 - accuracy: 0.6864 - val_loss: 0.5717 - val_accuracy: 0.6911\n",
      "Epoch 29/400\n",
      "491/491 [==============================] - 0s 85us/sample - loss: 0.5706 - accuracy: 0.6864 - val_loss: 0.5688 - val_accuracy: 0.6911\n",
      "Epoch 30/400\n",
      "491/491 [==============================] - 0s 89us/sample - loss: 0.5673 - accuracy: 0.6864 - val_loss: 0.5649 - val_accuracy: 0.6911\n",
      "Epoch 31/400\n",
      "491/491 [==============================] - 0s 89us/sample - loss: 0.5638 - accuracy: 0.6864 - val_loss: 0.5610 - val_accuracy: 0.6911\n",
      "Epoch 32/400\n",
      "491/491 [==============================] - 0s 122us/sample - loss: 0.5598 - accuracy: 0.6864 - val_loss: 0.5563 - val_accuracy: 0.7073\n",
      "Epoch 33/400\n",
      "491/491 [==============================] - 0s 93us/sample - loss: 0.5550 - accuracy: 0.6925 - val_loss: 0.5518 - val_accuracy: 0.7073\n",
      "Epoch 34/400\n",
      "491/491 [==============================] - 0s 91us/sample - loss: 0.5512 - accuracy: 0.6986 - val_loss: 0.5475 - val_accuracy: 0.7073\n",
      "Epoch 35/400\n",
      "491/491 [==============================] - 0s 100us/sample - loss: 0.5481 - accuracy: 0.7352 - val_loss: 0.5451 - val_accuracy: 0.7398\n",
      "Epoch 36/400\n",
      "491/491 [==============================] - 0s 102us/sample - loss: 0.5427 - accuracy: 0.7556 - val_loss: 0.5391 - val_accuracy: 0.7398\n",
      "Epoch 37/400\n",
      "491/491 [==============================] - 0s 100us/sample - loss: 0.5380 - accuracy: 0.7576 - val_loss: 0.5349 - val_accuracy: 0.7561\n",
      "Epoch 38/400\n",
      "491/491 [==============================] - 0s 93us/sample - loss: 0.5335 - accuracy: 0.7821 - val_loss: 0.5306 - val_accuracy: 0.7967\n",
      "Epoch 39/400\n",
      "491/491 [==============================] - 0s 83us/sample - loss: 0.5291 - accuracy: 0.7943 - val_loss: 0.5257 - val_accuracy: 0.8049\n",
      "Epoch 40/400\n",
      "491/491 [==============================] - 0s 83us/sample - loss: 0.5240 - accuracy: 0.8004 - val_loss: 0.5208 - val_accuracy: 0.8049\n",
      "Epoch 41/400\n",
      "491/491 [==============================] - 0s 81us/sample - loss: 0.5197 - accuracy: 0.8106 - val_loss: 0.5169 - val_accuracy: 0.8130\n",
      "Epoch 42/400\n",
      "491/491 [==============================] - 0s 83us/sample - loss: 0.5148 - accuracy: 0.8086 - val_loss: 0.5119 - val_accuracy: 0.8130\n",
      "Epoch 43/400\n",
      "491/491 [==============================] - 0s 85us/sample - loss: 0.5104 - accuracy: 0.8086 - val_loss: 0.5080 - val_accuracy: 0.8130\n",
      "Epoch 44/400\n",
      "491/491 [==============================] - 0s 89us/sample - loss: 0.5065 - accuracy: 0.8086 - val_loss: 0.5058 - val_accuracy: 0.8130\n",
      "Epoch 45/400\n",
      "491/491 [==============================] - 0s 83us/sample - loss: 0.5032 - accuracy: 0.8086 - val_loss: 0.5013 - val_accuracy: 0.8130\n",
      "Epoch 46/400\n",
      "491/491 [==============================] - 0s 87us/sample - loss: 0.4991 - accuracy: 0.8086 - val_loss: 0.4999 - val_accuracy: 0.8130\n",
      "Epoch 47/400\n",
      "491/491 [==============================] - 0s 98us/sample - loss: 0.4987 - accuracy: 0.8086 - val_loss: 0.5001 - val_accuracy: 0.8130\n",
      "Epoch 48/400\n",
      "491/491 [==============================] - 0s 93us/sample - loss: 0.4982 - accuracy: 0.8086 - val_loss: 0.4926 - val_accuracy: 0.8130\n",
      "Epoch 49/400\n",
      "491/491 [==============================] - 0s 98us/sample - loss: 0.4912 - accuracy: 0.8086 - val_loss: 0.4941 - val_accuracy: 0.8130\n",
      "Epoch 50/400\n",
      "491/491 [==============================] - 0s 89us/sample - loss: 0.4912 - accuracy: 0.8086 - val_loss: 0.4922 - val_accuracy: 0.8130\n",
      "Epoch 51/400\n",
      "491/491 [==============================] - 0s 89us/sample - loss: 0.4854 - accuracy: 0.8086 - val_loss: 0.4860 - val_accuracy: 0.8130\n",
      "Epoch 52/400\n",
      "491/491 [==============================] - 0s 83us/sample - loss: 0.4854 - accuracy: 0.8086 - val_loss: 0.4881 - val_accuracy: 0.8130\n",
      "Epoch 53/400\n",
      "491/491 [==============================] - 0s 89us/sample - loss: 0.4822 - accuracy: 0.8086 - val_loss: 0.4845 - val_accuracy: 0.8130\n",
      "Epoch 54/400\n",
      "491/491 [==============================] - 0s 83us/sample - loss: 0.4811 - accuracy: 0.8086 - val_loss: 0.4861 - val_accuracy: 0.8130\n",
      "Epoch 55/400\n",
      "491/491 [==============================] - 0s 83us/sample - loss: 0.4817 - accuracy: 0.8065 - val_loss: 0.4830 - val_accuracy: 0.8130\n",
      "Epoch 56/400\n",
      "491/491 [==============================] - 0s 87us/sample - loss: 0.4841 - accuracy: 0.8086 - val_loss: 0.4796 - val_accuracy: 0.8130\n",
      "Epoch 57/400\n",
      "491/491 [==============================] - 0s 83us/sample - loss: 0.4801 - accuracy: 0.8086 - val_loss: 0.4836 - val_accuracy: 0.8130\n",
      "Epoch 58/400\n",
      "491/491 [==============================] - 0s 85us/sample - loss: 0.4770 - accuracy: 0.8086 - val_loss: 0.4784 - val_accuracy: 0.8130\n",
      "Epoch 59/400\n",
      "491/491 [==============================] - 0s 89us/sample - loss: 0.4763 - accuracy: 0.8086 - val_loss: 0.4839 - val_accuracy: 0.8130\n",
      "Epoch 60/400\n",
      "491/491 [==============================] - 0s 81us/sample - loss: 0.4741 - accuracy: 0.8086 - val_loss: 0.4780 - val_accuracy: 0.8130\n",
      "Epoch 61/400\n",
      "491/491 [==============================] - 0s 91us/sample - loss: 0.4740 - accuracy: 0.8086 - val_loss: 0.4790 - val_accuracy: 0.8130\n",
      "Epoch 62/400\n",
      "491/491 [==============================] - 0s 83us/sample - loss: 0.4730 - accuracy: 0.8086 - val_loss: 0.4790 - val_accuracy: 0.8130\n",
      "Epoch 63/400\n",
      "491/491 [==============================] - 0s 77us/sample - loss: 0.4726 - accuracy: 0.8086 - val_loss: 0.4770 - val_accuracy: 0.8130\n",
      "Epoch 64/400\n",
      "491/491 [==============================] - 0s 81us/sample - loss: 0.4726 - accuracy: 0.8065 - val_loss: 0.4829 - val_accuracy: 0.8130\n",
      "Epoch 65/400\n",
      "491/491 [==============================] - 0s 79us/sample - loss: 0.4755 - accuracy: 0.8086 - val_loss: 0.4755 - val_accuracy: 0.8130\n",
      "Epoch 66/400\n",
      "491/491 [==============================] - 0s 81us/sample - loss: 0.4697 - accuracy: 0.8086 - val_loss: 0.4807 - val_accuracy: 0.8130\n",
      "Epoch 67/400\n",
      "491/491 [==============================] - 0s 89us/sample - loss: 0.4751 - accuracy: 0.8065 - val_loss: 0.4784 - val_accuracy: 0.8130\n",
      "Epoch 68/400\n",
      "491/491 [==============================] - 0s 85us/sample - loss: 0.4702 - accuracy: 0.8086 - val_loss: 0.4759 - val_accuracy: 0.8130\n",
      "Epoch 69/400\n",
      "491/491 [==============================] - 0s 78us/sample - loss: 0.4707 - accuracy: 0.8086 - val_loss: 0.4770 - val_accuracy: 0.8130\n",
      "Epoch 70/400\n",
      "491/491 [==============================] - 0s 87us/sample - loss: 0.4689 - accuracy: 0.8065 - val_loss: 0.4790 - val_accuracy: 0.8130\n",
      "Epoch 71/400\n",
      "491/491 [==============================] - 0s 78us/sample - loss: 0.4704 - accuracy: 0.8065 - val_loss: 0.4773 - val_accuracy: 0.8130\n",
      "Epoch 72/400\n",
      "491/491 [==============================] - 0s 93us/sample - loss: 0.4684 - accuracy: 0.8086 - val_loss: 0.4770 - val_accuracy: 0.8130\n",
      "Epoch 73/400\n",
      "491/491 [==============================] - 0s 85us/sample - loss: 0.4683 - accuracy: 0.8065 - val_loss: 0.4780 - val_accuracy: 0.8130\n",
      "Epoch 74/400\n",
      "491/491 [==============================] - 0s 81us/sample - loss: 0.4716 - accuracy: 0.8086 - val_loss: 0.4756 - val_accuracy: 0.8130\n",
      "Epoch 75/400\n",
      "491/491 [==============================] - 0s 85us/sample - loss: 0.4683 - accuracy: 0.8086 - val_loss: 0.4790 - val_accuracy: 0.8130\n",
      "Epoch 76/400\n",
      "491/491 [==============================] - 0s 77us/sample - loss: 0.4680 - accuracy: 0.8065 - val_loss: 0.4776 - val_accuracy: 0.8130\n",
      "Epoch 77/400\n",
      "491/491 [==============================] - 0s 81us/sample - loss: 0.4677 - accuracy: 0.8086 - val_loss: 0.4768 - val_accuracy: 0.8130\n",
      "Epoch 78/400\n",
      "491/491 [==============================] - 0s 79us/sample - loss: 0.4693 - accuracy: 0.8065 - val_loss: 0.4799 - val_accuracy: 0.8130\n",
      "Epoch 79/400\n",
      "491/491 [==============================] - 0s 79us/sample - loss: 0.4682 - accuracy: 0.8086 - val_loss: 0.4767 - val_accuracy: 0.8130\n",
      "Epoch 80/400\n",
      "491/491 [==============================] - 0s 83us/sample - loss: 0.4679 - accuracy: 0.8086 - val_loss: 0.4784 - val_accuracy: 0.8130\n",
      "Epoch 81/400\n",
      "491/491 [==============================] - 0s 79us/sample - loss: 0.4666 - accuracy: 0.8086 - val_loss: 0.4765 - val_accuracy: 0.8130\n",
      "Epoch 82/400\n",
      "491/491 [==============================] - 0s 81us/sample - loss: 0.4657 - accuracy: 0.8065 - val_loss: 0.4794 - val_accuracy: 0.8130\n",
      "Epoch 83/400\n",
      "491/491 [==============================] - 0s 81us/sample - loss: 0.4679 - accuracy: 0.8065 - val_loss: 0.4797 - val_accuracy: 0.8130\n",
      "Epoch 84/400\n",
      "491/491 [==============================] - 0s 100us/sample - loss: 0.4659 - accuracy: 0.8086 - val_loss: 0.4752 - val_accuracy: 0.8130\n",
      "Epoch 85/400\n",
      "491/491 [==============================] - 0s 84us/sample - loss: 0.4649 - accuracy: 0.8086 - val_loss: 0.4790 - val_accuracy: 0.8130\n",
      "Epoch 86/400\n",
      "491/491 [==============================] - 0s 106us/sample - loss: 0.4655 - accuracy: 0.8065 - val_loss: 0.4777 - val_accuracy: 0.8130\n",
      "Epoch 87/400\n",
      "491/491 [==============================] - 0s 104us/sample - loss: 0.4646 - accuracy: 0.8065 - val_loss: 0.4804 - val_accuracy: 0.8130\n",
      "Epoch 88/400\n",
      "491/491 [==============================] - 0s 93us/sample - loss: 0.4652 - accuracy: 0.8065 - val_loss: 0.4775 - val_accuracy: 0.8130\n",
      "Epoch 89/400\n",
      "491/491 [==============================] - 0s 101us/sample - loss: 0.4652 - accuracy: 0.8065 - val_loss: 0.4775 - val_accuracy: 0.8130\n",
      "Epoch 90/400\n",
      "491/491 [==============================] - 0s 100us/sample - loss: 0.4696 - accuracy: 0.8065 - val_loss: 0.4836 - val_accuracy: 0.8130\n",
      "Epoch 91/400\n",
      "491/491 [==============================] - 0s 91us/sample - loss: 0.4706 - accuracy: 0.8086 - val_loss: 0.4745 - val_accuracy: 0.8130\n",
      "Epoch 92/400\n",
      "491/491 [==============================] - 0s 95us/sample - loss: 0.4714 - accuracy: 0.8086 - val_loss: 0.4815 - val_accuracy: 0.8130\n",
      "Epoch 93/400\n",
      "491/491 [==============================] - 0s 100us/sample - loss: 0.4669 - accuracy: 0.8065 - val_loss: 0.4772 - val_accuracy: 0.8130\n",
      "Epoch 94/400\n",
      "491/491 [==============================] - 0s 91us/sample - loss: 0.4652 - accuracy: 0.8065 - val_loss: 0.4823 - val_accuracy: 0.8211\n",
      "Epoch 95/400\n",
      "491/491 [==============================] - 0s 83us/sample - loss: 0.4646 - accuracy: 0.8065 - val_loss: 0.4768 - val_accuracy: 0.8130\n",
      "Epoch 96/400\n",
      "491/491 [==============================] - 0s 98us/sample - loss: 0.4654 - accuracy: 0.8065 - val_loss: 0.4792 - val_accuracy: 0.8130\n",
      "Epoch 97/400\n",
      "491/491 [==============================] - 0s 83us/sample - loss: 0.4631 - accuracy: 0.8065 - val_loss: 0.4776 - val_accuracy: 0.8130\n",
      "Epoch 98/400\n",
      "491/491 [==============================] - 0s 83us/sample - loss: 0.4630 - accuracy: 0.8065 - val_loss: 0.4779 - val_accuracy: 0.8130\n",
      "Epoch 99/400\n",
      "491/491 [==============================] - 0s 87us/sample - loss: 0.4636 - accuracy: 0.8065 - val_loss: 0.4790 - val_accuracy: 0.8130\n",
      "Epoch 100/400\n",
      "491/491 [==============================] - 0s 79us/sample - loss: 0.4633 - accuracy: 0.8065 - val_loss: 0.4806 - val_accuracy: 0.8211\n",
      "Epoch 101/400\n",
      "491/491 [==============================] - 0s 83us/sample - loss: 0.4639 - accuracy: 0.8065 - val_loss: 0.4783 - val_accuracy: 0.8130\n",
      "Epoch 102/400\n",
      "491/491 [==============================] - 0s 87us/sample - loss: 0.4636 - accuracy: 0.8065 - val_loss: 0.4814 - val_accuracy: 0.8211\n",
      "Epoch 103/400\n",
      "491/491 [==============================] - 0s 91us/sample - loss: 0.4661 - accuracy: 0.8065 - val_loss: 0.4770 - val_accuracy: 0.8130\n",
      "Epoch 104/400\n",
      "491/491 [==============================] - 0s 81us/sample - loss: 0.4638 - accuracy: 0.8065 - val_loss: 0.4827 - val_accuracy: 0.8130\n",
      "Epoch 105/400\n",
      "491/491 [==============================] - 0s 81us/sample - loss: 0.4633 - accuracy: 0.8045 - val_loss: 0.4806 - val_accuracy: 0.8211\n",
      "Epoch 106/400\n",
      "491/491 [==============================] - 0s 85us/sample - loss: 0.4623 - accuracy: 0.8065 - val_loss: 0.4796 - val_accuracy: 0.8130\n",
      "Epoch 107/400\n",
      "491/491 [==============================] - 0s 114us/sample - loss: 0.4626 - accuracy: 0.8065 - val_loss: 0.4811 - val_accuracy: 0.8130\n",
      "Epoch 108/400\n",
      "491/491 [==============================] - 0s 104us/sample - loss: 0.4626 - accuracy: 0.8065 - val_loss: 0.4799 - val_accuracy: 0.8211\n",
      "Epoch 109/400\n",
      "491/491 [==============================] - 0s 110us/sample - loss: 0.4626 - accuracy: 0.8065 - val_loss: 0.4797 - val_accuracy: 0.8211\n",
      "Epoch 110/400\n",
      "491/491 [==============================] - 0s 91us/sample - loss: 0.4625 - accuracy: 0.8065 - val_loss: 0.4798 - val_accuracy: 0.8211\n",
      "Epoch 111/400\n",
      "491/491 [==============================] - 0s 89us/sample - loss: 0.4619 - accuracy: 0.8086 - val_loss: 0.4808 - val_accuracy: 0.8211\n"
     ]
    },
    {
     "name": "stdout",
     "output_type": "stream",
     "text": [
      "Epoch 112/400\n",
      "491/491 [==============================] - 0s 94us/sample - loss: 0.4624 - accuracy: 0.8065 - val_loss: 0.4810 - val_accuracy: 0.8211\n",
      "Epoch 113/400\n",
      "491/491 [==============================] - 0s 87us/sample - loss: 0.4619 - accuracy: 0.8065 - val_loss: 0.4802 - val_accuracy: 0.8211\n",
      "Epoch 114/400\n",
      "491/491 [==============================] - 0s 91us/sample - loss: 0.4640 - accuracy: 0.8065 - val_loss: 0.4803 - val_accuracy: 0.8211\n",
      "Epoch 115/400\n",
      "491/491 [==============================] - 0s 87us/sample - loss: 0.4658 - accuracy: 0.8065 - val_loss: 0.4796 - val_accuracy: 0.8130\n",
      "Epoch 116/400\n",
      "491/491 [==============================] - 0s 71us/sample - loss: 0.4615 - accuracy: 0.8065 - val_loss: 0.4816 - val_accuracy: 0.8211\n",
      "Epoch 00116: early stopping\n"
     ]
    },
    {
     "data": {
      "text/plain": [
       "<tensorflow.python.keras.callbacks.History at 0x18bcc522388>"
      ]
     },
     "execution_count": 55,
     "metadata": {},
     "output_type": "execute_result"
    }
   ],
   "source": [
    "model.fit(x=scaledtrain_x,\n",
    "          y=y_train,\n",
    "          epochs=400,\n",
    "          validation_data=(scaledvalid_x, y_valid),\n",
    "          callbacks=[early_stop])"
   ]
  },
  {
   "cell_type": "code",
   "execution_count": 14,
   "metadata": {},
   "outputs": [],
   "source": [
    "from tensorflow.keras.models import load_model"
   ]
  },
  {
   "cell_type": "code",
   "execution_count": 59,
   "metadata": {},
   "outputs": [],
   "source": [
    "model.save('neuralnetwork.h5')"
   ]
  },
  {
   "cell_type": "code",
   "execution_count": 15,
   "metadata": {},
   "outputs": [
    {
     "name": "stdout",
     "output_type": "stream",
     "text": [
      "WARNING:tensorflow:Sequential models without an `input_shape` passed to the first layer cannot reload their optimizer state. As a result, your model isstarting with a freshly initialized optimizer.\n"
     ]
    }
   ],
   "source": [
    "model=load_model('neuralnetwork.h5')"
   ]
  },
  {
   "cell_type": "code",
   "execution_count": 16,
   "metadata": {},
   "outputs": [],
   "source": [
    "ypred=model.predict_classes(scaledvalid_x)"
   ]
  },
  {
   "cell_type": "code",
   "execution_count": 17,
   "metadata": {},
   "outputs": [],
   "source": [
    "from sklearn.metrics import accuracy_score as acc"
   ]
  },
  {
   "cell_type": "code",
   "execution_count": 18,
   "metadata": {},
   "outputs": [],
   "source": [
    "accuracy = acc(ypred, y_valid)"
   ]
  },
  {
   "cell_type": "code",
   "execution_count": 19,
   "metadata": {},
   "outputs": [
    {
     "data": {
      "text/plain": [
       "0.8211382113821138"
      ]
     },
     "execution_count": 19,
     "metadata": {},
     "output_type": "execute_result"
    }
   ],
   "source": [
    "accuracy"
   ]
  },
  {
   "cell_type": "code",
   "execution_count": 20,
   "metadata": {},
   "outputs": [],
   "source": [
    "df_test=pd.read_csv(\"test.csv\")\n",
    "df_testcopy=df_test.copy()"
   ]
  },
  {
   "cell_type": "code",
   "execution_count": 22,
   "metadata": {},
   "outputs": [],
   "source": [
    "df_testcopy=df_testcopy.drop(\"Loan_ID\", axis=1)"
   ]
  },
  {
   "cell_type": "code",
   "execution_count": 23,
   "metadata": {},
   "outputs": [],
   "source": [
    "for label, content in df_testcopy.items():\n",
    "    if pd.api.types.is_numeric_dtype(content):\n",
    "        if pd.isnull(content).sum():\n",
    "            df_testcopy[label]=content.fillna(content.median())\n",
    "    if not pd.api.types.is_numeric_dtype(content):\n",
    "        if pd.isnull(content).sum():\n",
    "            df_testcopy[label]=pd.Categorical(content).codes+1"
   ]
  },
  {
   "cell_type": "code",
   "execution_count": 24,
   "metadata": {},
   "outputs": [],
   "source": [
    "for label, content in df_testcopy.items():\n",
    "    if not pd.api.types.is_numeric_dtype(content):\n",
    "        df_testcopy[label]=pd.Categorical(content).codes+1"
   ]
  },
  {
   "cell_type": "code",
   "execution_count": 25,
   "metadata": {},
   "outputs": [],
   "source": [
    "scaledtest = scaler.fit_transform(df_testcopy)"
   ]
  },
  {
   "cell_type": "code",
   "execution_count": 26,
   "metadata": {},
   "outputs": [],
   "source": [
    "preds=model.predict_classes(scaledtest)"
   ]
  },
  {
   "cell_type": "code",
   "execution_count": 27,
   "metadata": {},
   "outputs": [
    {
     "data": {
      "text/html": [
       "<div>\n",
       "<style scoped>\n",
       "    .dataframe tbody tr th:only-of-type {\n",
       "        vertical-align: middle;\n",
       "    }\n",
       "\n",
       "    .dataframe tbody tr th {\n",
       "        vertical-align: top;\n",
       "    }\n",
       "\n",
       "    .dataframe thead th {\n",
       "        text-align: right;\n",
       "    }\n",
       "</style>\n",
       "<table border=\"1\" class=\"dataframe\">\n",
       "  <thead>\n",
       "    <tr style=\"text-align: right;\">\n",
       "      <th></th>\n",
       "      <th>Loan_ID</th>\n",
       "      <th>Loan_stats</th>\n",
       "    </tr>\n",
       "  </thead>\n",
       "  <tbody>\n",
       "    <tr>\n",
       "      <th>0</th>\n",
       "      <td>LP001015</td>\n",
       "      <td>1</td>\n",
       "    </tr>\n",
       "    <tr>\n",
       "      <th>1</th>\n",
       "      <td>LP001022</td>\n",
       "      <td>1</td>\n",
       "    </tr>\n",
       "    <tr>\n",
       "      <th>2</th>\n",
       "      <td>LP001031</td>\n",
       "      <td>1</td>\n",
       "    </tr>\n",
       "    <tr>\n",
       "      <th>3</th>\n",
       "      <td>LP001035</td>\n",
       "      <td>1</td>\n",
       "    </tr>\n",
       "    <tr>\n",
       "      <th>4</th>\n",
       "      <td>LP001051</td>\n",
       "      <td>1</td>\n",
       "    </tr>\n",
       "    <tr>\n",
       "      <th>...</th>\n",
       "      <td>...</td>\n",
       "      <td>...</td>\n",
       "    </tr>\n",
       "    <tr>\n",
       "      <th>362</th>\n",
       "      <td>LP002971</td>\n",
       "      <td>1</td>\n",
       "    </tr>\n",
       "    <tr>\n",
       "      <th>363</th>\n",
       "      <td>LP002975</td>\n",
       "      <td>1</td>\n",
       "    </tr>\n",
       "    <tr>\n",
       "      <th>364</th>\n",
       "      <td>LP002980</td>\n",
       "      <td>1</td>\n",
       "    </tr>\n",
       "    <tr>\n",
       "      <th>365</th>\n",
       "      <td>LP002986</td>\n",
       "      <td>1</td>\n",
       "    </tr>\n",
       "    <tr>\n",
       "      <th>366</th>\n",
       "      <td>LP002989</td>\n",
       "      <td>1</td>\n",
       "    </tr>\n",
       "  </tbody>\n",
       "</table>\n",
       "<p>367 rows × 2 columns</p>\n",
       "</div>"
      ],
      "text/plain": [
       "      Loan_ID  Loan_stats\n",
       "0    LP001015           1\n",
       "1    LP001022           1\n",
       "2    LP001031           1\n",
       "3    LP001035           1\n",
       "4    LP001051           1\n",
       "..        ...         ...\n",
       "362  LP002971           1\n",
       "363  LP002975           1\n",
       "364  LP002980           1\n",
       "365  LP002986           1\n",
       "366  LP002989           1\n",
       "\n",
       "[367 rows x 2 columns]"
      ]
     },
     "execution_count": 27,
     "metadata": {},
     "output_type": "execute_result"
    }
   ],
   "source": [
    "df_preds=pd.DataFrame()\n",
    "df_preds[\"Loan_ID\"]=df_test[\"Loan_ID\"]\n",
    "df_preds[\"Loan_stats\"]=preds\n",
    "df_preds"
   ]
  },
  {
   "cell_type": "code",
   "execution_count": 28,
   "metadata": {},
   "outputs": [
    {
     "data": {
      "text/html": [
       "<div>\n",
       "<style scoped>\n",
       "    .dataframe tbody tr th:only-of-type {\n",
       "        vertical-align: middle;\n",
       "    }\n",
       "\n",
       "    .dataframe tbody tr th {\n",
       "        vertical-align: top;\n",
       "    }\n",
       "\n",
       "    .dataframe thead th {\n",
       "        text-align: right;\n",
       "    }\n",
       "</style>\n",
       "<table border=\"1\" class=\"dataframe\">\n",
       "  <thead>\n",
       "    <tr style=\"text-align: right;\">\n",
       "      <th></th>\n",
       "      <th>Loan_ID</th>\n",
       "      <th>Loan_Status</th>\n",
       "    </tr>\n",
       "  </thead>\n",
       "  <tbody>\n",
       "    <tr>\n",
       "      <th>0</th>\n",
       "      <td>LP001015</td>\n",
       "      <td>Y</td>\n",
       "    </tr>\n",
       "    <tr>\n",
       "      <th>1</th>\n",
       "      <td>LP001022</td>\n",
       "      <td>Y</td>\n",
       "    </tr>\n",
       "    <tr>\n",
       "      <th>2</th>\n",
       "      <td>LP001031</td>\n",
       "      <td>Y</td>\n",
       "    </tr>\n",
       "    <tr>\n",
       "      <th>3</th>\n",
       "      <td>LP001035</td>\n",
       "      <td>Y</td>\n",
       "    </tr>\n",
       "    <tr>\n",
       "      <th>4</th>\n",
       "      <td>LP001051</td>\n",
       "      <td>Y</td>\n",
       "    </tr>\n",
       "    <tr>\n",
       "      <th>...</th>\n",
       "      <td>...</td>\n",
       "      <td>...</td>\n",
       "    </tr>\n",
       "    <tr>\n",
       "      <th>362</th>\n",
       "      <td>LP002971</td>\n",
       "      <td>Y</td>\n",
       "    </tr>\n",
       "    <tr>\n",
       "      <th>363</th>\n",
       "      <td>LP002975</td>\n",
       "      <td>Y</td>\n",
       "    </tr>\n",
       "    <tr>\n",
       "      <th>364</th>\n",
       "      <td>LP002980</td>\n",
       "      <td>Y</td>\n",
       "    </tr>\n",
       "    <tr>\n",
       "      <th>365</th>\n",
       "      <td>LP002986</td>\n",
       "      <td>Y</td>\n",
       "    </tr>\n",
       "    <tr>\n",
       "      <th>366</th>\n",
       "      <td>LP002989</td>\n",
       "      <td>Y</td>\n",
       "    </tr>\n",
       "  </tbody>\n",
       "</table>\n",
       "<p>367 rows × 2 columns</p>\n",
       "</div>"
      ],
      "text/plain": [
       "      Loan_ID Loan_Status\n",
       "0    LP001015           Y\n",
       "1    LP001022           Y\n",
       "2    LP001031           Y\n",
       "3    LP001035           Y\n",
       "4    LP001051           Y\n",
       "..        ...         ...\n",
       "362  LP002971           Y\n",
       "363  LP002975           Y\n",
       "364  LP002980           Y\n",
       "365  LP002986           Y\n",
       "366  LP002989           Y\n",
       "\n",
       "[367 rows x 2 columns]"
      ]
     },
     "execution_count": 28,
     "metadata": {},
     "output_type": "execute_result"
    }
   ],
   "source": [
    "df_preds[\"Loan_Status\"]=['Y' if x==1 else 'N' for x in df_preds[\"Loan_stats\"]]\n",
    "df_preds=df_preds.drop(\"Loan_stats\", axis=1)\n",
    "df_preds"
   ]
  },
  {
   "cell_type": "code",
   "execution_count": 29,
   "metadata": {},
   "outputs": [],
   "source": [
    "df_preds.to_csv(\"Neuralnetwork.csv\", index= False)"
   ]
  },
  {
   "cell_type": "code",
   "execution_count": null,
   "metadata": {},
   "outputs": [],
   "source": []
  }
 ],
 "metadata": {
  "kernelspec": {
   "display_name": "Python 3",
   "language": "python",
   "name": "python3"
  },
  "language_info": {
   "codemirror_mode": {
    "name": "ipython",
    "version": 3
   },
   "file_extension": ".py",
   "mimetype": "text/x-python",
   "name": "python",
   "nbconvert_exporter": "python",
   "pygments_lexer": "ipython3",
   "version": "3.7.7"
  }
 },
 "nbformat": 4,
 "nbformat_minor": 4
}
